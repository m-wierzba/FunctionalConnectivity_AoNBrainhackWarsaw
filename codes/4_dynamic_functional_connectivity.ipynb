{
 "cells": [
  {
   "cell_type": "code",
   "execution_count": null,
   "metadata": {},
   "outputs": [],
   "source": [
    "# first, install holoviews package through the following command line: \n",
    "# conda install -c ioam holoviews bokeh\n",
    "\n",
    "# then, initiate this notebook with:\n",
    "# jupyter notebook --NotebookApp.iopub_data_rate_limit=10000000000\n",
    "\n",
    "# ----------------\n",
    "# compute and plot the dynamic functional connectivity with use of holoviews package:\n",
    "# http://holoviews.org/getting_started/index.html\n",
    "import holoviews as hv\n",
    "import numpy as np\n",
    "hv.extension('bokeh')\n",
    "\n",
    "import pandas as pd\n",
    "import numpy as np\n",
    "import scipy\n",
    "import math\n",
    "import matplotlib.pyplot as plt\n",
    "from sklearn.covariance import GraphLassoCV\n",
    "from sklearn.metrics import mutual_info_score\n",
    "from mpl_toolkits.axes_grid1 import make_axes_locatable\n",
    "from __future__ import division"
   ]
  },
  {
   "cell_type": "code",
   "execution_count": null,
   "metadata": {
    "collapsed": true
   },
   "outputs": [],
   "source": [
    "# load the fMRI data:\n",
    "df1             = pd.read_csv(\"100307_restingstate_day1.csv\")\n",
    "data1           = df1.values\n",
    "data1           = df1.values[0:600,:] #(I need to shorten the dataset a little bt as it is too large for plotting dFC)\n",
    "Nvars           = data1.shape[1]\n",
    "T               = data1.shape[0]\n",
    "labels_Glasser  = pd.read_csv(\"labels_Glasser.csv\",header=None)[0].tolist()"
   ]
  },
  {
   "cell_type": "code",
   "execution_count": null,
   "metadata": {
    "collapsed": true
   },
   "outputs": [],
   "source": [
    "# define the window size:\n",
    "window_length   = 500 # define window length as a number or as a fraction of the data length"
   ]
  },
  {
   "cell_type": "code",
   "execution_count": null,
   "metadata": {
    "collapsed": true
   },
   "outputs": [],
   "source": [
    "# [01] dynamic functional connectivity through a sliding window:\n",
    "Nwindows = T - window_length + 1\n",
    "dynamic_corrs1 = np.zeros((Nwindows,Nvars,Nvars))\n",
    "for ind in range(Nwindows):\n",
    "    frame = data1[ind:ind + window_length, :]   \n",
    "    dynamic_corrs1[ind, :, :] = np.corrcoef(np.transpose(frame))"
   ]
  },
  {
   "cell_type": "code",
   "execution_count": null,
   "metadata": {
    "collapsed": true
   },
   "outputs": [],
   "source": [
    "# create tuple of tuples with labels:\n",
    "labels = ()\n",
    "for ind in range(Nvars):\n",
    "    labels = labels + ((ind,labels_Glasser[ind]),)\n",
    "  \n",
    "xticks = labels\n",
    "yticks = labels"
   ]
  },
  {
   "cell_type": "code",
   "execution_count": null,
   "metadata": {
    "collapsed": true
   },
   "outputs": [],
   "source": [
    "# create a 3D interactive map of FC matrices with one slider (window number):\n",
    "%opts Image (cmap='RdBu_r') [colorbar=True invert_yaxis=False xticks=xticks yticks=yticks xrotation=90]\n",
    "items_fc = {} \n",
    "for n in range(Nwindows): # a slider: window number\n",
    "        def get_image3D(mat, label, n):\n",
    "            mat = mat[n, :, :]\n",
    "            return hv.Image(mat, label=label, bounds=[0,0,Nvars,Nvars],\n",
    "                 kdims=['ROIs', 'ROIs'], \n",
    "                 vdims=[hv.Dimension('bla', range=(-0.5, 0.5))])\n",
    "\n",
    "        image_frame = get_image3D(dynamic_corrs1, 'dynamic FC, rectangular window, ', n)\n",
    "        items_fc[n] = image_frame  \n",
    "        \n",
    "map1 = hv.HoloMap(items_fc, kdims=['window number'])"
   ]
  },
  {
   "cell_type": "code",
   "execution_count": null,
   "metadata": {},
   "outputs": [],
   "source": [
    "# plot the output:\n",
    "%output size=250 max_frames=200 \n",
    "map1"
   ]
  },
  {
   "cell_type": "code",
   "execution_count": null,
   "metadata": {
    "collapsed": true
   },
   "outputs": [],
   "source": []
  }
 ],
 "metadata": {
  "kernelspec": {
   "display_name": "Python 2",
   "language": "python",
   "name": "python2"
  },
  "language_info": {
   "codemirror_mode": {
    "name": "ipython",
    "version": 2
   },
   "file_extension": ".py",
   "mimetype": "text/x-python",
   "name": "python",
   "nbconvert_exporter": "python",
   "pygments_lexer": "ipython2",
   "version": "2.7.13"
  }
 },
 "nbformat": 4,
 "nbformat_minor": 2
}
